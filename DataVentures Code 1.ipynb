{
 "cells": [
  {
   "cell_type": "code",
   "execution_count": 1,
   "metadata": {
    "collapsed": true
   },
   "outputs": [],
   "source": [
    "import urllib2\n",
    "import ssl\n",
    "import json\n",
    "from pprint import pprint\n",
    "import pandas as pd\n",
    "import collections\n",
    "import matplotlib.pyplot as plt\n",
    "import numpy as np"
   ]
  },
  {
   "cell_type": "code",
   "execution_count": 7,
   "metadata": {
    "collapsed": true
   },
   "outputs": [],
   "source": [
    "def get_data(start_time, end_time, company):\n",
    "    \"\"\"Gets the price of a company in USD once per day from start date to end date and returns it as a dictionary\"\"\"\n",
    "    company_data = dict()\n",
    "    while start_time < end_time:\n",
    "        data_point = get_datapoint(start_time, company)\n",
    "        start_time += 86400\n",
    "        company_data[start_time] = data_point\n",
    "    return collections.OrderedDict(sorted(company_data.items(), key=lambda t: t[0]))\n",
    "    \n",
    "def get_datapoint(time, company):\n",
    "    \"\"\"Gets the price of a company in USD at a given time\"\"\"\n",
    "    json_str = urllib2.urlopen(\"https://min-api.cryptocompare.com/data/pricehistorical?fsym=\" + company + \"&tsyms=USD&ts=\" + str(time) + \"&extraParams=your_app_name\").read()\n",
    "    json_data = json.loads(json_str)\n",
    "    return json_data[company][\"USD\"]\n",
    "\n"
   ]
  },
  {
   "cell_type": "code",
   "execution_count": 8,
   "metadata": {},
   "outputs": [],
   "source": [
    "#Run the data collection process\n",
    "time_start = 1503964800 #August 29th at midnight\n",
    "time_end = 1506643200 #September 29th at midnight\n",
    "df = pd.DataFrame.from_dict(get_data(time_start, time_end, \"BTC\").items())\n",
    "df.columns = [\"Date\", \"Value\"]"
   ]
  },
  {
   "cell_type": "code",
   "execution_count": 9,
   "metadata": {},
   "outputs": [],
   "source": [
    "#Save the data to a CSV\n",
    "df.to_csv(\"/Users/jberman/Desktop/bitcoin_data.csv\")"
   ]
  },
  {
   "cell_type": "code",
   "execution_count": 12,
   "metadata": {},
   "outputs": [],
   "source": [
    "df[\"Log\"] = np.log(df['Value'])\n",
    "df[\"Diffs\"] = df[\"Log\"].diff()"
   ]
  },
  {
   "cell_type": "code",
   "execution_count": 13,
   "metadata": {},
   "outputs": [
    {
     "data": {
      "text/plain": [
       "[<matplotlib.text.Text at 0x10ecbdf10>,\n",
       " <matplotlib.text.Text at 0x10ed56650>,\n",
       " <matplotlib.text.Text at 0x10ee01dd0>,\n",
       " <matplotlib.text.Text at 0x10ee0b510>,\n",
       " <matplotlib.text.Text at 0x10ee0bc10>,\n",
       " <matplotlib.text.Text at 0x10ee15350>,\n",
       " <matplotlib.text.Text at 0x10ee15a50>,\n",
       " <matplotlib.text.Text at 0x10ee20190>,\n",
       " <matplotlib.text.Text at 0x10ee20890>,\n",
       " <matplotlib.text.Text at 0x10ee20f90>,\n",
       " <matplotlib.text.Text at 0x10ee2c6d0>,\n",
       " <matplotlib.text.Text at 0x10ee2cdd0>,\n",
       " <matplotlib.text.Text at 0x10ee36510>,\n",
       " <matplotlib.text.Text at 0x10ee36c10>,\n",
       " <matplotlib.text.Text at 0x10ee43350>,\n",
       " <matplotlib.text.Text at 0x10ee43a50>,\n",
       " <matplotlib.text.Text at 0x10ee4d190>,\n",
       " <matplotlib.text.Text at 0x10ee4d890>,\n",
       " <matplotlib.text.Text at 0x10ee4df90>,\n",
       " <matplotlib.text.Text at 0x10ee5a6d0>,\n",
       " <matplotlib.text.Text at 0x10ee5add0>,\n",
       " <matplotlib.text.Text at 0x10ee65510>,\n",
       " <matplotlib.text.Text at 0x10ee65c10>,\n",
       " <matplotlib.text.Text at 0x10ee70350>,\n",
       " <matplotlib.text.Text at 0x10ee70a50>,\n",
       " <matplotlib.text.Text at 0x10ee7b190>,\n",
       " <matplotlib.text.Text at 0x10ee7b890>,\n",
       " <matplotlib.text.Text at 0x10ee7bf90>,\n",
       " <matplotlib.text.Text at 0x10ee876d0>,\n",
       " <matplotlib.text.Text at 0x10ee87dd0>,\n",
       " <matplotlib.text.Text at 0x10ee93510>]"
      ]
     },
     "execution_count": 13,
     "metadata": {},
     "output_type": "execute_result"
    },
    {
     "data": {
      "image/png": "[encoded data removed]",
      "text/plain": [
       "<matplotlib.figure.Figure at 0x1078b9b90>"
      ]
     },
     "metadata": {},
     "output_type": "display_data"
    }
   ],
   "source": [
    "%matplotlib inline\n",
    "ax = df[\"Log\"].plot(xticks=df.index, rot=90)\n",
    "ax.set_xticklabels(df[\"Date\"])"
   ]
  },
  {
   "cell_type": "code",
   "execution_count": null,
   "metadata": {
    "collapsed": true
   },
   "outputs": [],
   "source": []
  }
 ],
 "metadata": {
  "kernelspec": {
   "display_name": "Python 2",
   "language": "python",
   "name": "python2"
  },
  "language_info": {
   "codemirror_mode": {
    "name": "ipython",
    "version": 2
   },
   "file_extension": ".py",
   "mimetype": "text/x-python",
   "name": "python",
   "nbconvert_exporter": "python",
   "pygments_lexer": "ipython2",
   "version": "2.7.13"
  }
 },
 "nbformat": 4,
 "nbformat_minor": 2
}
